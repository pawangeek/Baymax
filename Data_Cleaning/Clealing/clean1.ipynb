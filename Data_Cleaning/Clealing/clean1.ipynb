{
 "cells": [
  {
   "cell_type": "code",
   "execution_count": 2,
   "metadata": {},
   "outputs": [
    {
     "name": "stdout",
     "output_type": "stream",
     "text": [
      "<class 'list'>\n",
      "3000\n"
     ]
    }
   ],
   "source": [
    "import json\n",
    "\n",
    "# with open('input/2018-03-14T14-51-14.json') as data_file:\n",
    "with open('2018-03-17T19-04-38.json') as data_file:  \n",
    "    data = json.load(data_file)\n",
    "print(type(data))\n",
    "print(len(data))\n",
    "# data = data[0]\n",
    "# print(type(data))"
   ]
  },
  {
   "cell_type": "code",
   "execution_count": 6,
   "metadata": {},
   "outputs": [],
   "source": [
    "config = {'WhichFetureToUseForCorpusCreation' : '''['Symptom', 'Symptom_desc']'''}\n",
    "# ['Symptom', 'Symptom_desc', 'OtherRelated', 'OtherRelated_desc']"
   ]
  },
  {
   "cell_type": "code",
   "execution_count": 7,
   "metadata": {},
   "outputs": [
    {
     "data": {
      "text/plain": [
       "['Symptom', 'Symptom_desc']"
      ]
     },
     "execution_count": 7,
     "metadata": {},
     "output_type": "execute_result"
    }
   ],
   "source": [
    "FeatueToUse = [ i for i in config['WhichFetureToUseForCorpusCreation'].split(\"'\") if len(i) > 2]\n",
    "FeatueToUse"
   ]
  },
  {
   "cell_type": "code",
   "execution_count": 3,
   "metadata": {},
   "outputs": [
    {
     "name": "stdout",
     "output_type": "stream",
     "text": [
      "Symptom      ['Muscle cramps or spasms (painful)']\n",
      "Symptom_desc      ['WebMD Symptom Checker helps you find the most common medical conditions indicated by the symptoms muscle cramps or spasms (painful) including Muscle strain.', 'There  is 1 condition  associated with muscle cramps or spasms (painful). The links below will provide you with more detailed information on these medical conditions from the WebMD Symptom Checker and help provide a better understanding of causes and treatment of these related conditions.']\n",
      "OtherRelated      ['Muscle strain']\n",
      "OtherRelated_desc      ['Muscle strain occurs when muscles are stressed, overworked, or injured due to physical activity or labor. ']\n",
      "URL      https://symptomchecker.webmd.com/multiple-symptoms?symptoms=muscle-cramps-or-spasms-(painful)&symptomids=282&locations=22\n"
     ]
    }
   ],
   "source": [
    "PrecedingText = \"Obs_\"\n",
    "WholeDataAsDict = {}\n",
    "for i in range(len(data)):\n",
    "    WholeDataAsDict[PrecedingText + str(i)] = data[i]\n",
    "\n",
    "# print(type(WholeDataAsDict))\n",
    "# for i in  WholeDataAsDict:\n",
    "#     print(type(WholeDataAsDict[i]))\n",
    "#     for j in WholeDataAsDict[i]:\n",
    "#         print(type(WholeDataAsDict[i][j]))\n",
    "\n",
    "# print(WholeDataAsDict['Obs_0'])\n",
    "for i in WholeDataAsDict['Obs_0']:\n",
    "    print(i, \"    \", WholeDataAsDict['Obs_0'][i])"
   ]
  },
  {
   "cell_type": "code",
   "execution_count": 4,
   "metadata": {},
   "outputs": [
    {
     "name": "stdout",
     "output_type": "stream",
     "text": [
      "Symptom\n",
      "Symptom_desc\n",
      "OtherRelated\n",
      "OtherRelated_desc\n",
      "URL\n"
     ]
    }
   ],
   "source": [
    "for features in WholeDataAsDict['Obs_0']:\n",
    "    print(features)"
   ]
  },
  {
   "cell_type": "code",
   "execution_count": 9,
   "metadata": {},
   "outputs": [],
   "source": [
    "FeatueToUse = [ i for i in config['WhichFetureToUseForCorpusCreation'].split(\"'\") if len(i) > 2]\n",
    "WholeText = []\n",
    "for obs in WholeDataAsDict:\n",
    "    for feature in WholeDataAsDict[obs]:\n",
    "        if (feature in FeatueToUse):\n",
    "            for text_index in range(len(WholeDataAsDict[obs][feature])):\n",
    "                WholeText.append(WholeDataAsDict[obs][feature][text_index])\n",
    "WholeText = '\\n\\n'.join(WholeText)"
   ]
  },
  {
   "cell_type": "code",
   "execution_count": 11,
   "metadata": {},
   "outputs": [
    {
     "name": "stdout",
     "output_type": "stream",
     "text": [
      "Shape Of the Final Pandas:  (3000, 5)\n"
     ]
    },
    {
     "data": {
      "text/html": [
       "<div>\n",
       "<style scoped>\n",
       "    .dataframe tbody tr th:only-of-type {\n",
       "        vertical-align: middle;\n",
       "    }\n",
       "\n",
       "    .dataframe tbody tr th {\n",
       "        vertical-align: top;\n",
       "    }\n",
       "\n",
       "    .dataframe thead th {\n",
       "        text-align: right;\n",
       "    }\n",
       "</style>\n",
       "<table border=\"1\" class=\"dataframe\">\n",
       "  <thead>\n",
       "    <tr style=\"text-align: right;\">\n",
       "      <th></th>\n",
       "      <th>Symptom</th>\n",
       "      <th>Symptom_desc</th>\n",
       "      <th>OtherRelated</th>\n",
       "      <th>OtherRelated_desc</th>\n",
       "      <th>URL</th>\n",
       "    </tr>\n",
       "  </thead>\n",
       "  <tbody>\n",
       "    <tr>\n",
       "      <th>0</th>\n",
       "      <td>['Muscle cramps or spasms (painful)']</td>\n",
       "      <td>['WebMD Symptom Checker helps you find the mos...</td>\n",
       "      <td>['Muscle strain']</td>\n",
       "      <td>['Muscle strain occurs when muscles are stress...</td>\n",
       "      <td>https://symptomchecker.webmd.com/multiple-symp...</td>\n",
       "    </tr>\n",
       "    <tr>\n",
       "      <th>1</th>\n",
       "      <td>['Bloating or fullness, Constipation, Increase...</td>\n",
       "      <td>['WebMD Symptom Checker helps you find the mos...</td>\n",
       "      <td>['Irritable bowel syndrome', 'Constipation (ad...</td>\n",
       "      <td>['Irritable bowel syndrome is a common conditi...</td>\n",
       "      <td>https://symptomchecker.webmd.com/multiple-symp...</td>\n",
       "    </tr>\n",
       "    <tr>\n",
       "      <th>2</th>\n",
       "      <td>['Bruising or discoloration, Color change, Pai...</td>\n",
       "      <td>['WebMD Symptom Checker helps you find the mos...</td>\n",
       "      <td>['Bruise or contusion', 'Hematoma', 'Corns and...</td>\n",
       "      <td>['Bruises, or contusions, cause skin discolora...</td>\n",
       "      <td>https://symptomchecker.webmd.com/multiple-symp...</td>\n",
       "    </tr>\n",
       "    <tr>\n",
       "      <th>3</th>\n",
       "      <td>['Pain or discomfort']</td>\n",
       "      <td>['WebMD Symptom Checker helps you find the mos...</td>\n",
       "      <td>['Food poisoning', 'Gas pains', 'Gastritis', '...</td>\n",
       "      <td>['Food poisoning can cause abdominal pain, dia...</td>\n",
       "      <td>https://symptomchecker.webmd.com/multiple-symp...</td>\n",
       "    </tr>\n",
       "    <tr>\n",
       "      <th>4</th>\n",
       "      <td>['Feeling faint and Nausea or vomiting']</td>\n",
       "      <td>['WebMD Symptom Checker helps you find the mos...</td>\n",
       "      <td>['Food poisoning', 'Heat exhaustion', 'Dehydra...</td>\n",
       "      <td>['Food poisoning can cause abdominal pain, dia...</td>\n",
       "      <td>https://symptomchecker.webmd.com/multiple-symp...</td>\n",
       "    </tr>\n",
       "  </tbody>\n",
       "</table>\n",
       "</div>"
      ],
      "text/plain": [
       "                                             Symptom  \\\n",
       "0              ['Muscle cramps or spasms (painful)']   \n",
       "1  ['Bloating or fullness, Constipation, Increase...   \n",
       "2  ['Bruising or discoloration, Color change, Pai...   \n",
       "3                             ['Pain or discomfort']   \n",
       "4           ['Feeling faint and Nausea or vomiting']   \n",
       "\n",
       "                                        Symptom_desc  \\\n",
       "0  ['WebMD Symptom Checker helps you find the mos...   \n",
       "1  ['WebMD Symptom Checker helps you find the mos...   \n",
       "2  ['WebMD Symptom Checker helps you find the mos...   \n",
       "3  ['WebMD Symptom Checker helps you find the mos...   \n",
       "4  ['WebMD Symptom Checker helps you find the mos...   \n",
       "\n",
       "                                        OtherRelated  \\\n",
       "0                                  ['Muscle strain']   \n",
       "1  ['Irritable bowel syndrome', 'Constipation (ad...   \n",
       "2  ['Bruise or contusion', 'Hematoma', 'Corns and...   \n",
       "3  ['Food poisoning', 'Gas pains', 'Gastritis', '...   \n",
       "4  ['Food poisoning', 'Heat exhaustion', 'Dehydra...   \n",
       "\n",
       "                                   OtherRelated_desc  \\\n",
       "0  ['Muscle strain occurs when muscles are stress...   \n",
       "1  ['Irritable bowel syndrome is a common conditi...   \n",
       "2  ['Bruises, or contusions, cause skin discolora...   \n",
       "3  ['Food poisoning can cause abdominal pain, dia...   \n",
       "4  ['Food poisoning can cause abdominal pain, dia...   \n",
       "\n",
       "                                                 URL  \n",
       "0  https://symptomchecker.webmd.com/multiple-symp...  \n",
       "1  https://symptomchecker.webmd.com/multiple-symp...  \n",
       "2  https://symptomchecker.webmd.com/multiple-symp...  \n",
       "3  https://symptomchecker.webmd.com/multiple-symp...  \n",
       "4  https://symptomchecker.webmd.com/multiple-symp...  "
      ]
     },
     "execution_count": 11,
     "metadata": {},
     "output_type": "execute_result"
    }
   ],
   "source": [
    "import pandas as pd\n",
    "\n",
    "FeatureToUse = [ i for i in config['WhichFetureToUseForCorpusCreation'].split(\"'\") if len(i) > 2]\n",
    "FeatureToUseToCreateFullPDView = FeatureToUse + ['OtherRelated', 'OtherRelated_desc', 'URL']\n",
    "import pandas as pd\n",
    "WholeDataAsPD = pd.DataFrame(columns = FeatureToUseToCreateFullPDView) \n",
    "\n",
    "var = [[], [], [], [], []]\n",
    "renameDict = {}\n",
    "for i in range(len(FeatureToUseToCreateFullPDView)):\n",
    "    renameDict[i] = FeatureToUseToCreateFullPDView[i]\n",
    "\n",
    "for obs in WholeDataAsDict:\n",
    "        for ind in range(len(FeatureToUseToCreateFullPDView)):\n",
    "            var[ind] = WholeDataAsDict[obs][FeatureToUseToCreateFullPDView[ind]]\n",
    "        DF = pd.DataFrame([str(i) for i in var]).T.rename(columns = renameDict).iloc[:, :len(FeatureToUseToCreateFullPDView)]\n",
    "        WholeDataAsPD = WholeDataAsPD.append(DF, ignore_index=True)\n",
    "print(\"Shape Of the Final Pandas: \", WholeDataAsPD.shape)\n",
    "WholeDataAsPD.head()"
   ]
  },
  {
   "cell_type": "code",
   "execution_count": 12,
   "metadata": {},
   "outputs": [],
   "source": [
    "WholeDataAsPD.to_csv('useful_ieee/whole.csv',index=False)"
   ]
  },
  {
   "cell_type": "code",
   "execution_count": 13,
   "metadata": {},
   "outputs": [],
   "source": [
    "wholedata = WholeDataAsPD.drop(['URL','Symptom_desc'],axis=1)"
   ]
  },
  {
   "cell_type": "code",
   "execution_count": 14,
   "metadata": {},
   "outputs": [],
   "source": [
    "wholedata.to_csv('useful_ieee/whole_2.csv',index=False)"
   ]
  },
  {
   "cell_type": "code",
   "execution_count": null,
   "metadata": {},
   "outputs": [],
   "source": []
  }
 ],
 "metadata": {
  "kernelspec": {
   "display_name": "Python 3",
   "language": "python",
   "name": "python3"
  },
  "language_info": {
   "codemirror_mode": {
    "name": "ipython",
    "version": 3
   },
   "file_extension": ".py",
   "mimetype": "text/x-python",
   "name": "python",
   "nbconvert_exporter": "python",
   "pygments_lexer": "ipython3",
   "version": "3.6.7"
  }
 },
 "nbformat": 4,
 "nbformat_minor": 2
}
